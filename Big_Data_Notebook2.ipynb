{
 "cells": [
  {
   "cell_type": "markdown",
   "id": "d20d377b",
   "metadata": {},
   "source": [
    "# Notebook2"
   ]
  },
  {
   "cell_type": "code",
   "execution_count": 93,
   "id": "05e590a4",
   "metadata": {},
   "outputs": [],
   "source": [
    "#import the packages\n",
    "import pandas as pd\n",
    "import numpy as np\n",
    "import matplotlib.pyplot as plt\n",
    "import seaborn as sns"
   ]
  },
  {
   "cell_type": "code",
   "execution_count": 94,
   "id": "c1544765",
   "metadata": {},
   "outputs": [
    {
     "data": {
      "text/html": [
       "<div>\n",
       "<style scoped>\n",
       "    .dataframe tbody tr th:only-of-type {\n",
       "        vertical-align: middle;\n",
       "    }\n",
       "\n",
       "    .dataframe tbody tr th {\n",
       "        vertical-align: top;\n",
       "    }\n",
       "\n",
       "    .dataframe thead th {\n",
       "        text-align: right;\n",
       "    }\n",
       "</style>\n",
       "<table border=\"1\" class=\"dataframe\">\n",
       "  <thead>\n",
       "    <tr style=\"text-align: right;\">\n",
       "      <th></th>\n",
       "      <th>Car_Name</th>\n",
       "      <th>Year</th>\n",
       "      <th>Selling_Price</th>\n",
       "      <th>Present_Price</th>\n",
       "      <th>Kms_Driven</th>\n",
       "      <th>Fuel_Type</th>\n",
       "      <th>Seller_Type</th>\n",
       "      <th>Transmission</th>\n",
       "      <th>Owner</th>\n",
       "    </tr>\n",
       "  </thead>\n",
       "  <tbody>\n",
       "    <tr>\n",
       "      <th>0</th>\n",
       "      <td>ritz</td>\n",
       "      <td>2014</td>\n",
       "      <td>3.35</td>\n",
       "      <td>5.59</td>\n",
       "      <td>27000</td>\n",
       "      <td>Petrol</td>\n",
       "      <td>Dealer</td>\n",
       "      <td>Manual</td>\n",
       "      <td>0</td>\n",
       "    </tr>\n",
       "    <tr>\n",
       "      <th>1</th>\n",
       "      <td>sx4</td>\n",
       "      <td>2013</td>\n",
       "      <td>4.75</td>\n",
       "      <td>9.54</td>\n",
       "      <td>43000</td>\n",
       "      <td>Diesel</td>\n",
       "      <td>Dealer</td>\n",
       "      <td>Manual</td>\n",
       "      <td>0</td>\n",
       "    </tr>\n",
       "    <tr>\n",
       "      <th>2</th>\n",
       "      <td>ciaz</td>\n",
       "      <td>2017</td>\n",
       "      <td>7.25</td>\n",
       "      <td>9.85</td>\n",
       "      <td>6900</td>\n",
       "      <td>Petrol</td>\n",
       "      <td>Dealer</td>\n",
       "      <td>Manual</td>\n",
       "      <td>0</td>\n",
       "    </tr>\n",
       "    <tr>\n",
       "      <th>3</th>\n",
       "      <td>wagon r</td>\n",
       "      <td>2011</td>\n",
       "      <td>2.85</td>\n",
       "      <td>4.15</td>\n",
       "      <td>5200</td>\n",
       "      <td>Petrol</td>\n",
       "      <td>Dealer</td>\n",
       "      <td>Manual</td>\n",
       "      <td>0</td>\n",
       "    </tr>\n",
       "    <tr>\n",
       "      <th>4</th>\n",
       "      <td>swift</td>\n",
       "      <td>2014</td>\n",
       "      <td>4.60</td>\n",
       "      <td>6.87</td>\n",
       "      <td>42450</td>\n",
       "      <td>Diesel</td>\n",
       "      <td>Dealer</td>\n",
       "      <td>Manual</td>\n",
       "      <td>0</td>\n",
       "    </tr>\n",
       "  </tbody>\n",
       "</table>\n",
       "</div>"
      ],
      "text/plain": [
       "  Car_Name  Year  Selling_Price  Present_Price  Kms_Driven Fuel_Type  \\\n",
       "0     ritz  2014           3.35           5.59       27000    Petrol   \n",
       "1      sx4  2013           4.75           9.54       43000    Diesel   \n",
       "2     ciaz  2017           7.25           9.85        6900    Petrol   \n",
       "3  wagon r  2011           2.85           4.15        5200    Petrol   \n",
       "4    swift  2014           4.60           6.87       42450    Diesel   \n",
       "\n",
       "  Seller_Type Transmission  Owner  \n",
       "0      Dealer       Manual      0  \n",
       "1      Dealer       Manual      0  \n",
       "2      Dealer       Manual      0  \n",
       "3      Dealer       Manual      0  \n",
       "4      Dealer       Manual      0  "
      ]
     },
     "execution_count": 94,
     "metadata": {},
     "output_type": "execute_result"
    }
   ],
   "source": [
    "df = pd.read_csv('cardata.csv')\n",
    "df.head()"
   ]
  },
  {
   "cell_type": "code",
   "execution_count": 95,
   "id": "8160c9b6",
   "metadata": {},
   "outputs": [],
   "source": [
    "df=df.drop_duplicates()"
   ]
  },
  {
   "cell_type": "markdown",
   "id": "6242e86b",
   "metadata": {},
   "source": [
    "# Preprocessing"
   ]
  },
  {
   "cell_type": "code",
   "execution_count": 96,
   "id": "9f59cf9a",
   "metadata": {},
   "outputs": [],
   "source": [
    "df['Age'] = 2023 - df['Year']\n",
    "df.drop('Year',axis=1,inplace = True)"
   ]
  },
  {
   "cell_type": "markdown",
   "id": "dca3dcd7",
   "metadata": {},
   "source": [
    "We are creating a new column named 'Age' and then we are dropping the existing column named 'Year'. It is calculated by subtracting the values in the year column from the current year. Axis equals to 1 means that dropping the column as opposed to axis equals means that dropping a row. This transformation will be more useful for analytical purposes."
   ]
  },
  {
   "cell_type": "code",
   "execution_count": 97,
   "id": "c1ea4ce9",
   "metadata": {},
   "outputs": [],
   "source": [
    "df.drop(labels='Car_Name',axis= 1, inplace = True)"
   ]
  },
  {
   "cell_type": "markdown",
   "id": "02baf6b2",
   "metadata": {},
   "source": [
    "We do not need the 'car_name' column for our model. We can drop it for now."
   ]
  },
  {
   "cell_type": "code",
   "execution_count": 98,
   "id": "32019415",
   "metadata": {},
   "outputs": [
    {
     "data": {
      "text/html": [
       "<div>\n",
       "<style scoped>\n",
       "    .dataframe tbody tr th:only-of-type {\n",
       "        vertical-align: middle;\n",
       "    }\n",
       "\n",
       "    .dataframe tbody tr th {\n",
       "        vertical-align: top;\n",
       "    }\n",
       "\n",
       "    .dataframe thead th {\n",
       "        text-align: right;\n",
       "    }\n",
       "</style>\n",
       "<table border=\"1\" class=\"dataframe\">\n",
       "  <thead>\n",
       "    <tr style=\"text-align: right;\">\n",
       "      <th></th>\n",
       "      <th>Selling_Price</th>\n",
       "      <th>Present_Price</th>\n",
       "      <th>Kms_Driven</th>\n",
       "      <th>Fuel_Type</th>\n",
       "      <th>Seller_Type</th>\n",
       "      <th>Transmission</th>\n",
       "      <th>Owner</th>\n",
       "      <th>Age</th>\n",
       "    </tr>\n",
       "  </thead>\n",
       "  <tbody>\n",
       "    <tr>\n",
       "      <th>0</th>\n",
       "      <td>3.35</td>\n",
       "      <td>5.59</td>\n",
       "      <td>27000</td>\n",
       "      <td>Petrol</td>\n",
       "      <td>Dealer</td>\n",
       "      <td>Manual</td>\n",
       "      <td>0</td>\n",
       "      <td>9</td>\n",
       "    </tr>\n",
       "    <tr>\n",
       "      <th>1</th>\n",
       "      <td>4.75</td>\n",
       "      <td>9.54</td>\n",
       "      <td>43000</td>\n",
       "      <td>Diesel</td>\n",
       "      <td>Dealer</td>\n",
       "      <td>Manual</td>\n",
       "      <td>0</td>\n",
       "      <td>10</td>\n",
       "    </tr>\n",
       "    <tr>\n",
       "      <th>2</th>\n",
       "      <td>7.25</td>\n",
       "      <td>9.85</td>\n",
       "      <td>6900</td>\n",
       "      <td>Petrol</td>\n",
       "      <td>Dealer</td>\n",
       "      <td>Manual</td>\n",
       "      <td>0</td>\n",
       "      <td>6</td>\n",
       "    </tr>\n",
       "    <tr>\n",
       "      <th>3</th>\n",
       "      <td>2.85</td>\n",
       "      <td>4.15</td>\n",
       "      <td>5200</td>\n",
       "      <td>Petrol</td>\n",
       "      <td>Dealer</td>\n",
       "      <td>Manual</td>\n",
       "      <td>0</td>\n",
       "      <td>12</td>\n",
       "    </tr>\n",
       "    <tr>\n",
       "      <th>4</th>\n",
       "      <td>4.60</td>\n",
       "      <td>6.87</td>\n",
       "      <td>42450</td>\n",
       "      <td>Diesel</td>\n",
       "      <td>Dealer</td>\n",
       "      <td>Manual</td>\n",
       "      <td>0</td>\n",
       "      <td>9</td>\n",
       "    </tr>\n",
       "  </tbody>\n",
       "</table>\n",
       "</div>"
      ],
      "text/plain": [
       "   Selling_Price  Present_Price  Kms_Driven Fuel_Type Seller_Type  \\\n",
       "0           3.35           5.59       27000    Petrol      Dealer   \n",
       "1           4.75           9.54       43000    Diesel      Dealer   \n",
       "2           7.25           9.85        6900    Petrol      Dealer   \n",
       "3           2.85           4.15        5200    Petrol      Dealer   \n",
       "4           4.60           6.87       42450    Diesel      Dealer   \n",
       "\n",
       "  Transmission  Owner  Age  \n",
       "0       Manual      0    9  \n",
       "1       Manual      0   10  \n",
       "2       Manual      0    6  \n",
       "3       Manual      0   12  \n",
       "4       Manual      0    9  "
      ]
     },
     "execution_count": 98,
     "metadata": {},
     "output_type": "execute_result"
    }
   ],
   "source": [
    "df.head()"
   ]
  },
  {
   "cell_type": "code",
   "execution_count": 99,
   "id": "10c7f80a",
   "metadata": {},
   "outputs": [],
   "source": [
    "df['Selling_Price'] = df['Selling_Price'] * 1000\n",
    "df['Present_Price'] = df['Present_Price'] * 1000"
   ]
  },
  {
   "cell_type": "markdown",
   "id": "aa41b016",
   "metadata": {},
   "source": [
    "The price is in indian currency. We do not want a different currency so that we can convert it to Euros by multiplying the price by 1000."
   ]
  },
  {
   "cell_type": "code",
   "execution_count": 100,
   "id": "e8d47e3a",
   "metadata": {},
   "outputs": [],
   "source": [
    "df.rename(columns = {'Selling_Price':'Selling_Price(Euro)','Present_Price':'Present_Price(Euro)'},inplace = True)"
   ]
  },
  {
   "cell_type": "markdown",
   "id": "7b0ebe0c",
   "metadata": {},
   "source": [
    "For better understanding we changed the column names as follow: Selling_Price(Euro) and 'Present_Price(Euro)."
   ]
  },
  {
   "cell_type": "code",
   "execution_count": 101,
   "id": "8146edb6",
   "metadata": {},
   "outputs": [
    {
     "data": {
      "text/html": [
       "<div>\n",
       "<style scoped>\n",
       "    .dataframe tbody tr th:only-of-type {\n",
       "        vertical-align: middle;\n",
       "    }\n",
       "\n",
       "    .dataframe tbody tr th {\n",
       "        vertical-align: top;\n",
       "    }\n",
       "\n",
       "    .dataframe thead th {\n",
       "        text-align: right;\n",
       "    }\n",
       "</style>\n",
       "<table border=\"1\" class=\"dataframe\">\n",
       "  <thead>\n",
       "    <tr style=\"text-align: right;\">\n",
       "      <th></th>\n",
       "      <th>Selling_Price(Euro)</th>\n",
       "      <th>Present_Price(Euro)</th>\n",
       "      <th>Kms_Driven</th>\n",
       "      <th>Fuel_Type</th>\n",
       "      <th>Seller_Type</th>\n",
       "      <th>Transmission</th>\n",
       "      <th>Owner</th>\n",
       "      <th>Age</th>\n",
       "    </tr>\n",
       "  </thead>\n",
       "  <tbody>\n",
       "    <tr>\n",
       "      <th>0</th>\n",
       "      <td>3350.0</td>\n",
       "      <td>5590.0</td>\n",
       "      <td>27000</td>\n",
       "      <td>Petrol</td>\n",
       "      <td>Dealer</td>\n",
       "      <td>Manual</td>\n",
       "      <td>0</td>\n",
       "      <td>9</td>\n",
       "    </tr>\n",
       "    <tr>\n",
       "      <th>1</th>\n",
       "      <td>4750.0</td>\n",
       "      <td>9540.0</td>\n",
       "      <td>43000</td>\n",
       "      <td>Diesel</td>\n",
       "      <td>Dealer</td>\n",
       "      <td>Manual</td>\n",
       "      <td>0</td>\n",
       "      <td>10</td>\n",
       "    </tr>\n",
       "    <tr>\n",
       "      <th>2</th>\n",
       "      <td>7250.0</td>\n",
       "      <td>9850.0</td>\n",
       "      <td>6900</td>\n",
       "      <td>Petrol</td>\n",
       "      <td>Dealer</td>\n",
       "      <td>Manual</td>\n",
       "      <td>0</td>\n",
       "      <td>6</td>\n",
       "    </tr>\n",
       "    <tr>\n",
       "      <th>3</th>\n",
       "      <td>2850.0</td>\n",
       "      <td>4150.0</td>\n",
       "      <td>5200</td>\n",
       "      <td>Petrol</td>\n",
       "      <td>Dealer</td>\n",
       "      <td>Manual</td>\n",
       "      <td>0</td>\n",
       "      <td>12</td>\n",
       "    </tr>\n",
       "    <tr>\n",
       "      <th>4</th>\n",
       "      <td>4600.0</td>\n",
       "      <td>6870.0</td>\n",
       "      <td>42450</td>\n",
       "      <td>Diesel</td>\n",
       "      <td>Dealer</td>\n",
       "      <td>Manual</td>\n",
       "      <td>0</td>\n",
       "      <td>9</td>\n",
       "    </tr>\n",
       "  </tbody>\n",
       "</table>\n",
       "</div>"
      ],
      "text/plain": [
       "   Selling_Price(Euro)  Present_Price(Euro)  Kms_Driven Fuel_Type Seller_Type  \\\n",
       "0               3350.0               5590.0       27000    Petrol      Dealer   \n",
       "1               4750.0               9540.0       43000    Diesel      Dealer   \n",
       "2               7250.0               9850.0        6900    Petrol      Dealer   \n",
       "3               2850.0               4150.0        5200    Petrol      Dealer   \n",
       "4               4600.0               6870.0       42450    Diesel      Dealer   \n",
       "\n",
       "  Transmission  Owner  Age  \n",
       "0       Manual      0    9  \n",
       "1       Manual      0   10  \n",
       "2       Manual      0    6  \n",
       "3       Manual      0   12  \n",
       "4       Manual      0    9  "
      ]
     },
     "execution_count": 101,
     "metadata": {},
     "output_type": "execute_result"
    }
   ],
   "source": [
    "df.head()"
   ]
  },
  {
   "cell_type": "code",
   "execution_count": 102,
   "id": "3de7e699",
   "metadata": {},
   "outputs": [
    {
     "name": "stdout",
     "output_type": "stream",
     "text": [
      "<class 'pandas.core.frame.DataFrame'>\n",
      "Int64Index: 299 entries, 0 to 300\n",
      "Data columns (total 8 columns):\n",
      " #   Column               Non-Null Count  Dtype  \n",
      "---  ------               --------------  -----  \n",
      " 0   Selling_Price(Euro)  299 non-null    float64\n",
      " 1   Present_Price(Euro)  299 non-null    float64\n",
      " 2   Kms_Driven           299 non-null    int64  \n",
      " 3   Fuel_Type            299 non-null    object \n",
      " 4   Seller_Type          299 non-null    object \n",
      " 5   Transmission         299 non-null    object \n",
      " 6   Owner                299 non-null    int64  \n",
      " 7   Age                  299 non-null    int64  \n",
      "dtypes: float64(2), int64(3), object(3)\n",
      "memory usage: 21.0+ KB\n"
     ]
    }
   ],
   "source": [
    "df.info()"
   ]
  },
  {
   "cell_type": "code",
   "execution_count": 103,
   "id": "c93858ca",
   "metadata": {},
   "outputs": [],
   "source": [
    "df['Selling_Price(Euro)'] = df['Selling_Price(Euro)'].astype(int)\n",
    "df['Present_Price(Euro)'] = df['Present_Price(Euro)'].astype(int)"
   ]
  },
  {
   "cell_type": "markdown",
   "id": "fc054d8d",
   "metadata": {},
   "source": [
    "We have different data types in the dataframe. There is no need for the price columns to be of float type so we can convert them into the integers and we have 3 string columns. We will apply label encoding in the upcoming codes."
   ]
  },
  {
   "cell_type": "code",
   "execution_count": 104,
   "id": "e9778127",
   "metadata": {},
   "outputs": [
    {
     "data": {
      "text/html": [
       "<div>\n",
       "<style scoped>\n",
       "    .dataframe tbody tr th:only-of-type {\n",
       "        vertical-align: middle;\n",
       "    }\n",
       "\n",
       "    .dataframe tbody tr th {\n",
       "        vertical-align: top;\n",
       "    }\n",
       "\n",
       "    .dataframe thead th {\n",
       "        text-align: right;\n",
       "    }\n",
       "</style>\n",
       "<table border=\"1\" class=\"dataframe\">\n",
       "  <thead>\n",
       "    <tr style=\"text-align: right;\">\n",
       "      <th></th>\n",
       "      <th>Selling_Price(Euro)</th>\n",
       "      <th>Present_Price(Euro)</th>\n",
       "      <th>Kms_Driven</th>\n",
       "      <th>Fuel_Type</th>\n",
       "      <th>Seller_Type</th>\n",
       "      <th>Transmission</th>\n",
       "      <th>Owner</th>\n",
       "      <th>Age</th>\n",
       "    </tr>\n",
       "  </thead>\n",
       "  <tbody>\n",
       "    <tr>\n",
       "      <th>0</th>\n",
       "      <td>3350</td>\n",
       "      <td>5590</td>\n",
       "      <td>27000</td>\n",
       "      <td>2</td>\n",
       "      <td>0</td>\n",
       "      <td>1</td>\n",
       "      <td>0</td>\n",
       "      <td>9</td>\n",
       "    </tr>\n",
       "    <tr>\n",
       "      <th>1</th>\n",
       "      <td>4750</td>\n",
       "      <td>9540</td>\n",
       "      <td>43000</td>\n",
       "      <td>1</td>\n",
       "      <td>0</td>\n",
       "      <td>1</td>\n",
       "      <td>0</td>\n",
       "      <td>10</td>\n",
       "    </tr>\n",
       "    <tr>\n",
       "      <th>2</th>\n",
       "      <td>7250</td>\n",
       "      <td>9850</td>\n",
       "      <td>6900</td>\n",
       "      <td>2</td>\n",
       "      <td>0</td>\n",
       "      <td>1</td>\n",
       "      <td>0</td>\n",
       "      <td>6</td>\n",
       "    </tr>\n",
       "    <tr>\n",
       "      <th>3</th>\n",
       "      <td>2850</td>\n",
       "      <td>4150</td>\n",
       "      <td>5200</td>\n",
       "      <td>2</td>\n",
       "      <td>0</td>\n",
       "      <td>1</td>\n",
       "      <td>0</td>\n",
       "      <td>12</td>\n",
       "    </tr>\n",
       "    <tr>\n",
       "      <th>4</th>\n",
       "      <td>4600</td>\n",
       "      <td>6870</td>\n",
       "      <td>42450</td>\n",
       "      <td>1</td>\n",
       "      <td>0</td>\n",
       "      <td>1</td>\n",
       "      <td>0</td>\n",
       "      <td>9</td>\n",
       "    </tr>\n",
       "  </tbody>\n",
       "</table>\n",
       "</div>"
      ],
      "text/plain": [
       "   Selling_Price(Euro)  Present_Price(Euro)  Kms_Driven  Fuel_Type  \\\n",
       "0                 3350                 5590       27000          2   \n",
       "1                 4750                 9540       43000          1   \n",
       "2                 7250                 9850        6900          2   \n",
       "3                 2850                 4150        5200          2   \n",
       "4                 4600                 6870       42450          1   \n",
       "\n",
       "   Seller_Type  Transmission  Owner  Age  \n",
       "0            0             1      0    9  \n",
       "1            0             1      0   10  \n",
       "2            0             1      0    6  \n",
       "3            0             1      0   12  \n",
       "4            0             1      0    9  "
      ]
     },
     "execution_count": 104,
     "metadata": {},
     "output_type": "execute_result"
    }
   ],
   "source": [
    "from sklearn.preprocessing import LabelEncoder\n",
    "le = LabelEncoder()\n",
    "df['Fuel_Type'] = le.fit_transform(df['Fuel_Type'])\n",
    "df['Seller_Type'] = le.fit_transform(df['Seller_Type'])\n",
    "df['Transmission'] = le.fit_transform(df['Transmission'])\n",
    "\n",
    "df.head()"
   ]
  },
  {
   "cell_type": "markdown",
   "id": "2b5b6b0a",
   "metadata": {},
   "source": [
    "The purpose of this code is to prepare the string columns for modeling. It is converting categorical features into numerical values. This enables the computer to understand the data. Machine learning algorithms that used for our project work with numerical data not text data."
   ]
  },
  {
   "cell_type": "code",
   "execution_count": 105,
   "id": "f5251559",
   "metadata": {},
   "outputs": [
    {
     "data": {
      "image/png": "[encoded data removed]",
      "text/plain": [
       "<Figure size 800x600 with 2 Axes>"
      ]
     },
     "metadata": {},
     "output_type": "display_data"
    }
   ],
   "source": [
    "plt.figure(figsize=(8, 6))\n",
    "sns.heatmap(df.corr(), annot=True, cmap='coolwarm', fmt='.2f')\n",
    "plt.title('Correlation Heatmap')\n",
    "plt.show()"
   ]
  },
  {
   "cell_type": "markdown",
   "id": "30611f44",
   "metadata": {},
   "source": [
    "We can see the correlation between multiple variables in correlation heatmap. It shows how closely related different variables are. Each variable is represented by a row and a column and the cells show the correlation between them. Correlation ranges from -1 to +1. If values closer to zero, it means that there is no correlation between the two variables. The close to 1 and -1 the correlation is the more positively correlated. For example, the correlation closer to 1, when one variable will increase, other variable increases as well. On the other hand, If the correlation closer to -1, when one variable will decrease as the other increases. Also, If the cell is darker, it means that there is a strong correlarion there. On the other hand, it represent a low correlation if the cell has lighter color.\n",
    "\n",
    "In the following codes we will create models and we should look the values of present price. It is so clear that there is a positive correlation between present price and selling price with a value of 0.88. Other than that, we will not include the Owner, Age and Kms_Driven columns due to low accuracy scores."
   ]
  },
  {
   "cell_type": "markdown",
   "id": "835c77f4",
   "metadata": {},
   "source": [
    "# Linear Regression"
   ]
  },
  {
   "cell_type": "code",
   "execution_count": 106,
   "id": "6b05dc3a",
   "metadata": {},
   "outputs": [],
   "source": [
    "X = df.drop(['Selling_Price(Euro)','Kms_Driven', 'Owner', 'Age'], axis = 1) \n",
    "Y = df['Selling_Price(Euro)']"
   ]
  },
  {
   "cell_type": "markdown",
   "id": "2b931c76",
   "metadata": {},
   "source": [
    "Preprocessing is done and now we are preparing the data for modeling by splitting it into features and the target variable. We drop the 'Selling_Price(Euro)' column because that column holds the values we want to predict and we will drop other columns due to low correlation. The purpose is to separate the features from the target variable."
   ]
  },
  {
   "cell_type": "code",
   "execution_count": 107,
   "id": "f9c12173",
   "metadata": {},
   "outputs": [
    {
     "name": "stdout",
     "output_type": "stream",
     "text": [
      "x train:  (239, 4)\n",
      "x test:  (60, 4)\n",
      "y train:  (239,)\n",
      "y test:  (60,)\n"
     ]
    }
   ],
   "source": [
    "from sklearn.model_selection import train_test_split\n",
    "X_train, X_test, Y_train, Y_test = train_test_split(X, Y, test_size=0.2, random_state=23)\n",
    "print(\"x train: \",X_train.shape)\n",
    "print(\"x test: \",X_test.shape)\n",
    "print(\"y train: \",Y_train.shape)\n",
    "print(\"y test: \",Y_test.shape)"
   ]
  },
  {
   "cell_type": "markdown",
   "id": "680da802",
   "metadata": {},
   "source": [
    "In this section of the code, we are splitting our data into training and testing sets. This is a crucial step in machine learning model development to ensure that the model is trained on one subset of data and evaluated on another independent subset. The train_test_split function does this splitting for both the features and the target variable. The purpose is to prevent overfitting by assessing the model's performance on unseen data during testing. The printed statements provide information about the sizes of the resulting datasets, helping us confirm that the split was done correctly"
   ]
  },
  {
   "cell_type": "code",
   "execution_count": 108,
   "id": "0f71bd3d",
   "metadata": {},
   "outputs": [],
   "source": [
    "from sklearn.linear_model import LinearRegression\n",
    "from sklearn.metrics import r2_score\n",
    "# Creating a LinearRegression model\n",
    "lr = LinearRegression()\n",
    "# Fitting the model to the training data\n",
    "lr.fit(X_train,Y_train)\n",
    "# Making predictions on the test data\n",
    "predictions = lr.predict(X_test)"
   ]
  },
  {
   "cell_type": "markdown",
   "id": "1c55dd3d",
   "metadata": {},
   "source": [
    "The purpose of this code is to perform linear regression analysis. To perform linear regression analysis we are using scikit-learn library. In the second line of the code, we are creating an instance of the LinearRegression class and assigns it to the variable. We will use it to build and train our model. After the model is trained, last line uses the trained model to make predictions."
   ]
  },
  {
   "cell_type": "code",
   "execution_count": 109,
   "id": "77d8c179",
   "metadata": {},
   "outputs": [
    {
     "name": "stdout",
     "output_type": "stream",
     "text": [
      "R-squared score: 0.7786651950889847\n"
     ]
    }
   ],
   "source": [
    "# Calculating the R-squared score\n",
    "lr_r2 = r2_score(Y_test, predictions)\n",
    "print(\"R-squared score:\", lr_r2)"
   ]
  },
  {
   "cell_type": "markdown",
   "id": "6f0b4d19",
   "metadata": {},
   "source": [
    "With this code, we can calculate the R square of our model. The purpose of that is to assess how well the model fits the data. It is a statistical measure that indicates the proportion of the variance in the dependent variable that can be explained by the independent variables used in the model. It is a value between 0 and 1, where\n",
    "\n",
    "R² = 0 indicates that the model does not explain any variability in the dependent variable.\n",
    "R² = 1 indicates that the model perfectly explains the variability in the dependent variable.\n",
    "An R² value closer to 1 suggests that the model's predictions closely match the actual target values, indicating a good fit. An R² value closer to 0 suggests that the model does not fit the data well.\n",
    "\n",
    "When we look our output which is 0.77, it means that model's predictions are quite consistent with the actual target values. Model provides a good fit to the data. However, it's important to note that a high R² score doesn't necessarily mean the model is perfect. We should be careful about potential overfitting and context of the data."
   ]
  },
  {
   "cell_type": "markdown",
   "id": "ef4bc3c9",
   "metadata": {},
   "source": [
    "# Decision Tree"
   ]
  },
  {
   "cell_type": "code",
   "execution_count": 110,
   "id": "dfd377f7",
   "metadata": {},
   "outputs": [],
   "source": [
    "from sklearn.tree import DecisionTreeRegressor\n",
    "# Creating a DecisionTreeRegressor model\n",
    "dt_model = DecisionTreeRegressor(random_state=2)\n",
    "# Fitting the model to the training data\n",
    "dt_model.fit(X_train, Y_train)\n",
    "# Making predictions on the test data\n",
    "predictions_tree = dt_model.predict(X_test)"
   ]
  },
  {
   "cell_type": "code",
   "execution_count": 111,
   "id": "f0cb3302",
   "metadata": {},
   "outputs": [
    {
     "name": "stdout",
     "output_type": "stream",
     "text": [
      "R-squared score: 0.7326585580761407\n"
     ]
    }
   ],
   "source": [
    "# Calculating the R-squared score\n",
    "dt_model_r2 = r2_score(Y_test, predictions_tree)\n",
    "print(\"R-squared score:\", dt_model_r2)"
   ]
  },
  {
   "cell_type": "markdown",
   "id": "d0a3666c",
   "metadata": {},
   "source": [
    "Our score for decision tree model is 0.73. When we compare it to Linear Regression model it is relatively low but it still represents a high score which means that there are no errors in our data."
   ]
  },
  {
   "cell_type": "markdown",
   "id": "cb8cd592",
   "metadata": {},
   "source": [
    "# Random Forest"
   ]
  },
  {
   "cell_type": "code",
   "execution_count": 112,
   "id": "fa44b320",
   "metadata": {},
   "outputs": [],
   "source": [
    "from sklearn.ensemble import RandomForestRegressor\n",
    "# Creating a RandomForestRegressor model\n",
    "rf_model = RandomForestRegressor(random_state=3)\n",
    "# Fitting the model to the training data\n",
    "rf_model.fit(X_train, Y_train)\n",
    "# Making predictions on the test data\n",
    "predictions_rf = rf_model.predict(X_test)"
   ]
  },
  {
   "cell_type": "code",
   "execution_count": 113,
   "id": "11bff2cd",
   "metadata": {},
   "outputs": [
    {
     "name": "stdout",
     "output_type": "stream",
     "text": [
      "R-squared score: 0.7679321833914338\n"
     ]
    }
   ],
   "source": [
    "# Calculating the R-squared score\n",
    "rf_model_r2 = r2_score(Y_test, predictions_rf)\n",
    "print(\"R-squared score:\", rf_model_r2)"
   ]
  },
  {
   "cell_type": "markdown",
   "id": "c5b1270b",
   "metadata": {},
   "source": [
    "The random forest is our final model, and it once again achieved a high score of 0.76. This score is nearly identical to the linear model's performance."
   ]
  },
  {
   "cell_type": "markdown",
   "id": "1a0c0124",
   "metadata": {},
   "source": [
    "# Comparison of Models"
   ]
  },
  {
   "cell_type": "code",
   "execution_count": 114,
   "id": "5792c16b",
   "metadata": {},
   "outputs": [],
   "source": [
    "# Create a DataFrame to store the results\n",
    "results = pd.DataFrame({\n",
    "    'Model': ['Linear Regression', 'Decision Tree', 'Random Forest'],\n",
    "    'R-squared Score': [lr_r2, dt_model_r2, rf_model_r2]\n",
    "})"
   ]
  },
  {
   "cell_type": "code",
   "execution_count": 115,
   "id": "b571e6ac",
   "metadata": {},
   "outputs": [
    {
     "data": {
      "image/png": "[encoded data removed]",
      "text/plain": [
       "<Figure size 800x600 with 1 Axes>"
      ]
     },
     "metadata": {},
     "output_type": "display_data"
    },
    {
     "name": "stdout",
     "output_type": "stream",
     "text": [
      "               Model  R-squared Score\n",
      "0  Linear Regression         0.778665\n",
      "1      Decision Tree         0.732659\n",
      "2      Random Forest         0.767932\n"
     ]
    }
   ],
   "source": [
    "# Create a bar plot to visualize R-squared scores\n",
    "plt.figure(figsize=(8, 6))\n",
    "plt.bar(results['Model'], results['R-squared Score'], color=['blue', 'green', 'orange'])\n",
    "plt.xlabel('Model')\n",
    "plt.ylabel('R-squared Score')\n",
    "plt.title('Comparison of R-squared Scores')\n",
    "plt.ylim(0, 1)\n",
    "plt.show()\n",
    "\n",
    "print(results)"
   ]
  },
  {
   "cell_type": "markdown",
   "id": "949b46f3",
   "metadata": {},
   "source": [
    "Although all the scores are good enough, we will use Linear Regression for the project. With the following code we will import our model and it will be ready to use in our streamlit web app."
   ]
  },
  {
   "cell_type": "code",
   "execution_count": 116,
   "id": "a13c8ad3",
   "metadata": {},
   "outputs": [],
   "source": [
    "import pickle\n",
    "pickle.dump(lr, open('./model_lr.sav', 'wb'))"
   ]
  }
 ],
 "metadata": {
  "kernelspec": {
   "display_name": "Python 3 (ipykernel)",
   "language": "python",
   "name": "python3"
  },
  "language_info": {
   "codemirror_mode": {
    "name": "ipython",
    "version": 3
   },
   "file_extension": ".py",
   "mimetype": "text/x-python",
   "name": "python",
   "nbconvert_exporter": "python",
   "pygments_lexer": "ipython3",
   "version": "3.10.9"
  }
 },
 "nbformat": 4,
 "nbformat_minor": 5
}
